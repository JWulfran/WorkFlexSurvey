{
 "cells": [
  {
   "cell_type": "code",
   "execution_count": 1,
   "id": "35d7dc8c",
   "metadata": {},
   "outputs": [],
   "source": [
    "import pandas as pd\n",
    "import matplotlib.pyplot as plt\n",
    "import seaborn as sns"
   ]
  },
  {
   "cell_type": "code",
   "execution_count": 4,
   "id": "1463d73c",
   "metadata": {},
   "outputs": [],
   "source": [
    "df = pd.read_excel(\"data/WorkFlexSurvey.xlsx\")\n",
    "df_null = pd.read_excel(\"data/WorkFlexSurvey-Null.xlsx\")"
   ]
  },
  {
   "cell_type": "code",
   "execution_count": 6,
   "id": "e7196178",
   "metadata": {},
   "outputs": [
    {
     "name": "stdout",
     "output_type": "stream",
     "text": [
      "(9000, 15)\n",
      "(20, 15)\n"
     ]
    }
   ],
   "source": [
    "print(df.shape)\n",
    "print(df_null.shape)"
   ]
  },
  {
   "cell_type": "code",
   "execution_count": null,
   "id": "28261d53",
   "metadata": {},
   "outputs": [],
   "source": []
  }
 ],
 "metadata": {
  "kernelspec": {
   "display_name": "env",
   "language": "python",
   "name": "python3"
  },
  "language_info": {
   "codemirror_mode": {
    "name": "ipython",
    "version": 3
   },
   "file_extension": ".py",
   "mimetype": "text/x-python",
   "name": "python",
   "nbconvert_exporter": "python",
   "pygments_lexer": "ipython3",
   "version": "3.12.4"
  }
 },
 "nbformat": 4,
 "nbformat_minor": 5
}
